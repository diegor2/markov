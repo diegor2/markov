{
 "cells": [
  {
   "cell_type": "code",
   "execution_count": 116,
   "metadata": {
    "collapsed": true
   },
   "outputs": [],
   "source": [
    "### REMOVE THIS ###\n",
    "\n",
    "client_id = '9f34a1e09fd78fe'\n",
    "client_secret = 'e5b4803ba0a010191e3b79143de418cf44949d89'"
   ]
  },
  {
   "cell_type": "code",
   "execution_count": 117,
   "metadata": {
    "collapsed": false
   },
   "outputs": [],
   "source": [
    "from collections import namedtuple\n",
    "Item = namedtuple('Item', 'url id'.split())"
   ]
  },
  {
   "cell_type": "code",
   "execution_count": 118,
   "metadata": {
    "collapsed": false
   },
   "outputs": [],
   "source": [
    "import os\n",
    "\n",
    "def load_queue(dir):\n",
    "    def append(q, name, files):\n",
    "        q += [f for f in files if f.endswith('.png')]\n",
    "    q = []\n",
    "    os.path.walk(dir, append , q)\n",
    "    return q"
   ]
  },
  {
   "cell_type": "code",
   "execution_count": 119,
   "metadata": {
    "collapsed": false
   },
   "outputs": [
    {
     "name": "stdout",
     "output_type": "stream",
     "text": [
      "Fetching urls...\n",
      "done\n"
     ]
    }
   ],
   "source": [
    "import requests\n",
    "from imgurpython import ImgurClient\n",
    "from io import BytesIO\n",
    "\n",
    "print 'Fetching urls...'\n",
    "queue = []\n",
    "\n",
    "client = ImgurClient(client_id, client_secret)\n",
    "items = client.gallery()\n",
    "for item in items:\n",
    "    if item.is_album:\n",
    "        for img in client.get_album(item.id).images:\n",
    "            queue.append(Item(img['link'], img['id']))\n",
    "    else:\n",
    "        queue.append(Item(item.link, item.id))\n",
    "print 'done'\n",
    "            "
   ]
  },
  {
   "cell_type": "code",
   "execution_count": 121,
   "metadata": {
    "collapsed": false
   },
   "outputs": [],
   "source": [
    "import matplotlib.pyplot as plt\n",
    "\n",
    "import numpy as np\n",
    "\n",
    "from PIL import Image\n",
    "from cStringIO import StringIO"
   ]
  },
  {
   "cell_type": "code",
   "execution_count": 122,
   "metadata": {
    "collapsed": false
   },
   "outputs": [
    {
     "name": "stdout",
     "output_type": "stream",
     "text": [
      "Downloading 100.00% (480 of 480)\n"
     ]
    }
   ],
   "source": [
    "import os\n",
    "\n",
    "if not os.path.exists('raw'):\n",
    "    os.mkdir('raw')\n",
    "\n",
    "for n, item in enumerate(queue, 1):\n",
    "    print '\\rDownloading {:.2f}% ({} of {})'.format(float(n) * 100 / len (queue), n, len(queue)),\n",
    "\n",
    "    r = requests.get(item.url)\n",
    "    if not r.ok:\n",
    "        continue\n",
    "\n",
    "    i = Image.open(BytesIO(r.content))\n",
    "    i.save('raw/{}.png'.format(item.id))\n",
    "    "
   ]
  },
  {
   "cell_type": "code",
   "execution_count": 123,
   "metadata": {
    "collapsed": false
   },
   "outputs": [
    {
     "name": "stdout",
     "output_type": "stream",
     "text": [
      "Converting 100.00% (480 of 480)\n"
     ]
    }
   ],
   "source": [
    "if not os.path.exists('low'):\n",
    "    os.mkdir('low')\n",
    "\n",
    "queue = load_queue('raw')\n",
    "for n, f in enumerate(queue, 1):\n",
    "    print '\\rConverting {:.2f}% ({} of {})'.format(float(n) * 100 / len (queue), n, len(queue)),\n",
    "    i = Image.open('raw/{}'.format(f))\n",
    "    i = i.convert('L', dither=False)\n",
    "    scale = float(500) / max(i.width, i.height)\n",
    "    i = i.resize((int(i.width * scale), int(i.height * scale)))\n",
    "    i.save('low/{}'.format(f))"
   ]
  },
  {
   "cell_type": "code",
   "execution_count": 249,
   "metadata": {
    "collapsed": false
   },
   "outputs": [],
   "source": [
    "from collections import defaultdict\n",
    "from collections import namedtuple\n",
    "\n",
    "Directions = namedtuple('Directions', 'down right'.split())\n",
    "\n",
    "markov = defaultdict(lambda: Directions(defaultdict(int), defaultdict(int)))"
   ]
  },
  {
   "cell_type": "code",
   "execution_count": 10,
   "metadata": {
    "collapsed": false
   },
   "outputs": [],
   "source": [
    "import json, os\n",
    "\n",
    "if os.path.exists('markov.json'):\n",
    "    with open('markov.json', 'r') as f:\n",
    "        markov = {int(state): Directions(*[defaultdict(int, {int(new_state): int(probab)\n",
    "                   for new_state, probab in transition[direction].items()})\n",
    "                    for direction in 'right down'.split()])\n",
    "                      for state, transition in json.loads(f.read()).items()}"
   ]
  },
  {
   "cell_type": "code",
   "execution_count": 253,
   "metadata": {
    "collapsed": false
   },
   "outputs": [
    {
     "name": "stdout",
     "output_type": "stream",
     "text": [
      "Learning 100.00% (480 of 480)\n"
     ]
    }
   ],
   "source": [
    "def learn_from(f):\n",
    "    img = np.asarray(Image.open('low/{}'.format(f)))\n",
    "    w, h = img.shape\n",
    "    for (i, j), px in np.ndenumerate(img):\n",
    "        if i + 1 < w:\n",
    "            markov[px].right[img[i+1, j]] += 1\n",
    "        if j + 1 < h:\n",
    "            markov[px].down[img[i, j+1]] += 1\n",
    "\n",
    "queue = load_queue('low')\n",
    "for n, i in enumerate(queue, 1):\n",
    "    learn_from(i)\n",
    "    print '\\rLearning {:.2f}% ({} of {})'.format(float(n) * 100 / len (queue), n, len(queue)),"
   ]
  },
  {
   "cell_type": "code",
   "execution_count": 247,
   "metadata": {
    "collapsed": false
   },
   "outputs": [],
   "source": [
    "import json\n",
    "\n",
    "with open('markov.json', 'w') as f:\n",
    "    f.write(json.dumps({str(state): {direction: {str(new_state): str(probab)\n",
    "                         for new_state, probab in getattr(transition, direction).items()}\n",
    "                            for direction in 'right down'.split()}\n",
    "                              for state, transition in markov.items()}))"
   ]
  },
  {
   "cell_type": "code",
   "execution_count": 14,
   "metadata": {
    "collapsed": false
   },
   "outputs": [
    {
     "name": "stdout",
     "output_type": "stream",
     "text": [
      "Cleaning up\n"
     ]
    }
   ],
   "source": [
    "import shutil\n",
    "\n",
    "print 'Cleaning up'\n",
    "\n",
    "shutil.rmtree('raw')\n",
    "shutil.rmtree('low')"
   ]
  },
  {
   "cell_type": "code",
   "execution_count": 15,
   "metadata": {
    "collapsed": true
   },
   "outputs": [],
   "source": [
    "%matplotlib inline"
   ]
  },
  {
   "cell_type": "code",
   "execution_count": 255,
   "metadata": {
    "collapsed": false
   },
   "outputs": [],
   "source": [
    "def normalize(transitions):\n",
    "    m = max(transitions.values())\n",
    "    probabilities = {state : float(weight) / m for state, weight in transitions.items()}\n",
    "    \n",
    "    states, probs = zip(*probabilities.items())\n",
    "    slots = np.cumsum(probs)\n",
    "    normalized = [s / max(slots) for s in slots]\n",
    "    distribution = dict(zip(normalized, states)) # fix with OrderedDict\n",
    "    return distribution\n",
    "\n",
    "normalized = {s: Directions(*map(normalize, d)) for s, d in markov.items()} "
   ]
  },
  {
   "cell_type": "code",
   "execution_count": 257,
   "metadata": {
    "collapsed": true
   },
   "outputs": [],
   "source": [
    "import random\n",
    "\n",
    "def pick_from(distribution):\n",
    "    prob = distribution.keys()\n",
    "    i, bin = random.random(), 0\n",
    "    \n",
    "    for s, t in zip(prob, prob[1:]):\n",
    "        bin = s\n",
    "        if s >= i:\n",
    "            break\n",
    "            \n",
    "    return distribution[bin]"
   ]
  },
  {
   "cell_type": "code",
   "execution_count": 264,
   "metadata": {
    "collapsed": false
   },
   "outputs": [
    {
     "name": "stdout",
     "output_type": "stream",
     "text": [
      "0 0\n",
      "0.104680001724\n",
      "0.402840424346\n"
     ]
    }
   ],
   "source": [
    "from itertools import product\n",
    "\n",
    "matrix = np.zeros((500, 500), np.int8)\n",
    "seed =  random.choice(markov.keys()) # seed\n",
    "matrix[0][0] = seed\n",
    "\n",
    "for i, j in product(range(500), range(500)):\n",
    "    px = matrix[i][j]\n",
    "    print i, j\n",
    "    matrix[i][j+1] = pick_from(normalized[px].right)\n",
    "    matrix[i+1][j] = pick_from(normalized[px].down)\n",
    "    break"
   ]
  },
  {
   "cell_type": "code",
   "execution_count": 260,
   "metadata": {
    "collapsed": false
   },
   "outputs": [],
   "source": [
    "def dump(name, transitions):\n",
    "    for d in 'right down'.split():\n",
    "        with open(name+'_'+d+'.txt', 'w') as f:\n",
    "            for px in transitions.keys():\n",
    "                f.write(str(px) + '->' + ' '.join(map(repr, sorted(getattr(transitions[px], d).items())))+'\\n')\n",
    "\n",
    "dump('markov', markov)\n",
    "dump('normalized', normalized)"
   ]
  },
  {
   "cell_type": "code",
   "execution_count": 261,
   "metadata": {
    "collapsed": false
   },
   "outputs": [
    {
     "data": {
      "text/plain": [
       "'0 1 2 3 4 5 6 7 8 9 10 11 12 13 14 15 16 17 18 19 20 21 22 23 24 25 26 27 28 29 30 31 32 33 34 35 36 37 38 39 40 41 42 43 44 45 46 47 48 49 50 51 52 53 54 55 56 57 58 59 60 61 62 63 64 65 66 67 68 69 70 71 72 73 74 75 76 77 78 79 80 81 82 83 84 85 86 87 88 89 90 91 92 93 94 95 96 97 98 99 100 101 102 103 104 105 106 107 108 109 110 111 112 113 114 115 116 117 118 119 120 121 122 123 124 125 126 127 128 129 130 131 132 133 134 135 136 137 138 139 140 141 142 143 144 145 146 147 148 149 150 151 152 153 154 155 156 157 158 159 160 161 162 163 164 165 166 167 168 169 170 171 172 173 174 175 176 177 178 179 180 181 182 183 184 185 186 187 188 189 190 191 192 193 194 195 196 197 198 199 200 201 202 203 204 205 206 207 208 209 210 211 212 213 214 215 216 217 218 219 220 221 222 223 224 225 226 227 228 229 230 231 232 233 234 235 236 237 238 239 240 241 242 243 244 245 246 247 248 249 250 251 252 253 254 255'"
      ]
     },
     "execution_count": 261,
     "metadata": {},
     "output_type": "execute_result"
    }
   ],
   "source": [
    "' '.join(map(repr, markov.keys()))"
   ]
  },
  {
   "cell_type": "markdown",
   "metadata": {},
   "source": []
  }
 ],
 "metadata": {
  "kernelspec": {
   "display_name": "Python 2",
   "language": "python",
   "name": "python2"
  },
  "language_info": {
   "codemirror_mode": {
    "name": "ipython",
    "version": 2
   },
   "file_extension": ".py",
   "mimetype": "text/x-python",
   "name": "python",
   "nbconvert_exporter": "python",
   "pygments_lexer": "ipython2",
   "version": "2.7.11"
  }
 },
 "nbformat": 4,
 "nbformat_minor": 0
}
