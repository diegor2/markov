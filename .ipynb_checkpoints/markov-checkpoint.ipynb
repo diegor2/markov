{
 "cells": [
  {
   "cell_type": "code",
   "execution_count": 1,
   "metadata": {
    "collapsed": true
   },
   "outputs": [],
   "source": [
    "### REMOVE THIS ###\n",
    "\n",
    "client_id = '9f34a1e09fd78fe'\n",
    "client_secret = 'e5b4803ba0a010191e3b79143de418cf44949d89'"
   ]
  },
  {
   "cell_type": "code",
   "execution_count": 2,
   "metadata": {
    "collapsed": false
   },
   "outputs": [],
   "source": [
    "from collections import namedtuple\n",
    "Item = namedtuple('Item', 'url id'.split())"
   ]
  },
  {
   "cell_type": "code",
   "execution_count": 6,
   "metadata": {
    "collapsed": false
   },
   "outputs": [],
   "source": [
    "import os\n",
    "\n",
    "def load_queue(dir):\n",
    "    def append(q, name, files):\n",
    "        q += [f for f in files if f.endswith('.png')]\n",
    "    q = []\n",
    "    os.path.walk(dir, append , q)\n",
    "    return q"
   ]
  },
  {
   "cell_type": "code",
   "execution_count": 4,
   "metadata": {
    "collapsed": false
   },
   "outputs": [
    {
     "name": "stdout",
     "output_type": "stream",
     "text": [
      "Fetching urls...\n",
      "done\n"
     ]
    }
   ],
   "source": [
    "import requests\n",
    "from imgurpython import ImgurClient\n",
    "from io import BytesIO\n",
    "\n",
    "print 'Fetching urls...'\n",
    "queue = []\n",
    "\n",
    "client = ImgurClient(client_id, client_secret)\n",
    "items = client.gallery()\n",
    "for item in items:\n",
    "    if item.is_album:\n",
    "        for img in client.get_album(item.id).images:\n",
    "            queue.append(Item(img['link'], img['id']))\n",
    "    else:\n",
    "        queue.append(Item(item.link, item.id))\n",
    "print 'done'\n",
    "            "
   ]
  },
  {
   "cell_type": "code",
   "execution_count": 7,
   "metadata": {
    "collapsed": false
   },
   "outputs": [],
   "source": [
    "import matplotlib.pyplot as plt\n",
    "\n",
    "import numpy as np\n",
    "\n",
    "from PIL import Image\n",
    "from cStringIO import StringIO"
   ]
  },
  {
   "cell_type": "code",
   "execution_count": 6,
   "metadata": {
    "collapsed": false
   },
   "outputs": [
    {
     "name": "stdout",
     "output_type": "stream",
     "text": [
      "Downloading 100.00% (324 of 324)\n"
     ]
    }
   ],
   "source": [
    "import os\n",
    "\n",
    "if not os.path.exists('raw'):\n",
    "    os.mkdir('raw')\n",
    "\n",
    "for n, item in enumerate(queue, 1):\n",
    "    print '\\rDownloading {:.2f}% ({} of {})'.format(float(n) * 100 / len (queue), n, len(queue)),\n",
    "\n",
    "    r = requests.get(item.url)\n",
    "    if not r.ok:\n",
    "        continue\n",
    "\n",
    "    i = Image.open(BytesIO(r.content))\n",
    "    i.save('raw/{}.png'.format(item.id))\n",
    "    "
   ]
  },
  {
   "cell_type": "code",
   "execution_count": 7,
   "metadata": {
    "collapsed": false
   },
   "outputs": [
    {
     "name": "stdout",
     "output_type": "stream",
     "text": [
      "Converting 100.00% (711 of 711)\n"
     ]
    }
   ],
   "source": [
    "if not os.path.exists('low'):\n",
    "    os.mkdir('low')\n",
    "\n",
    "queue = load_queue('raw')\n",
    "for n, f in enumerate(queue, 1):\n",
    "    print '\\rConverting {:.2f}% ({} of {})'.format(float(n) * 100 / len (queue), n, len(queue)),\n",
    "    i = Image.open('raw/{}'.format(f))\n",
    "    i = i.convert('L', dither=False)\n",
    "    scale = float(500) / max(i.width, i.height)\n",
    "    i = i.resize((int(i.width * scale), int(i.height * scale)))\n",
    "    i.save('low/{}'.format(f))"
   ]
  },
  {
   "cell_type": "code",
   "execution_count": 8,
   "metadata": {
    "collapsed": false
   },
   "outputs": [],
   "source": [
    "from collections import defaultdict\n",
    "from collections import namedtuple\n",
    "\n",
    "Directions = namedtuple('Directions', 'down right'.split())\n",
    "\n",
    "markov = defaultdict(lambda: Directions(defaultdict(int), defaultdict(int)))"
   ]
  },
  {
   "cell_type": "code",
   "execution_count": 3,
   "metadata": {
    "collapsed": false
   },
   "outputs": [],
   "source": [
    "import json, os\n",
    "\n",
    "if os.path.exists('markov.json'):\n",
    "    with open('markov.json', 'r') as f:\n",
    "        markov = defaultdict(int, {int(state): Directions(*[defaultdict(int, {int(new_state): int(probab)\n",
    "                   for new_state, probab in transition[direction].items()})\n",
    "                    for direction in 'right down'.split()])\n",
    "                      for state, transition in json.loads(f.read()).items()})"
   ]
  },
  {
   "cell_type": "code",
   "execution_count": 9,
   "metadata": {
    "collapsed": false
   },
   "outputs": [
    {
     "name": "stdout",
     "output_type": "stream",
     "text": [
      "Learning 100.00% (711 of 711)\n"
     ]
    }
   ],
   "source": [
    "def learn_from(f):\n",
    "    img = np.asarray(Image.open('low/{}'.format(f)))\n",
    "    w, h = img.shape\n",
    "    for (i, j), px in np.ndenumerate(img):\n",
    "        if i + 1 < w:\n",
    "            markov[px].right[img[i+1][j]] += 1\n",
    "        if j + 1 < h:\n",
    "            markov[px].down[img[i][j+1]] += 1\n",
    "\n",
    "queue = load_queue('low')\n",
    "for n, i in enumerate(queue, 1):\n",
    "    learn_from(i)\n",
    "    print '\\rLearning {:.2f}% ({} of {})'.format(float(n) * 100 / len (queue), n, len(queue)),"
   ]
  },
  {
   "cell_type": "code",
   "execution_count": 10,
   "metadata": {
    "collapsed": false
   },
   "outputs": [],
   "source": [
    "import json\n",
    "\n",
    "with open('markov.json', 'w') as f:\n",
    "    f.write(json.dumps({str(state): {direction: {str(new_state): str(probab)\n",
    "                         for new_state, probab in getattr(transition, direction).items()}\n",
    "                            for direction in 'right down'.split()}\n",
    "                              for state, transition in markov.items()}))"
   ]
  },
  {
   "cell_type": "code",
   "execution_count": null,
   "metadata": {
    "collapsed": false
   },
   "outputs": [],
   "source": [
    "import shutil\n",
    "\n",
    "print 'Cleaning up'\n",
    "\n",
    "# shutil.rmtree('raw')\n",
    "# shutil.rmtree('low')"
   ]
  },
  {
   "cell_type": "code",
   "execution_count": null,
   "metadata": {
    "collapsed": false
   },
   "outputs": [],
   "source": [
    "from operator import itemgetter\n",
    "from collections import OrderedDict\n",
    "\n",
    "def normalize(transitions):\n",
    "    m = max(transitions.values())\n",
    "    probabilities = {state : float(weight) / m for state, weight in transitions.items()}\n",
    "    \n",
    "    states, probs = zip(*sorted(probabilities.items(), key=itemgetter(1)))\n",
    "    slots = np.cumsum(probs)\n",
    "    normalized = [s / max(slots) for s in slots]\n",
    "    distribution = OrderedDict(zip(normalized, states))\n",
    "    return distribution\n",
    "\n",
    "normalized = {s: Directions(*map(normalize, d)) for s, d in markov.items()} "
   ]
  },
  {
   "cell_type": "code",
   "execution_count": 4,
   "metadata": {
    "collapsed": false
   },
   "outputs": [],
   "source": [
    "def dump(name, transitions):\n",
    "    for d in 'right down'.split():\n",
    "        with open(name+'_'+d+'.txt', 'w') as f:\n",
    "            for px in transitions.keys():\n",
    "                f.write(str(px) + '->' + ' '.join(map(repr, sorted(getattr(transitions[px], d).items())))+'\\n')\n",
    "\n",
    "dump('markov', markov)\n",
    "# dump('normalized', normalized)"
   ]
  },
  {
   "cell_type": "code",
   "execution_count": null,
   "metadata": {
    "collapsed": true
   },
   "outputs": [],
   "source": [
    "import random\n",
    "\n",
    "def pick_from(distribution):\n",
    "    prob = distribution.keys()\n",
    "    i, bin = random.random(), 0\n",
    "    \n",
    "    for s, t in zip(prob, prob[1:]):\n",
    "        bin = s\n",
    "        if s >= i:\n",
    "            break\n",
    "            \n",
    "    return distribution[bin]"
   ]
  },
  {
   "cell_type": "code",
   "execution_count": null,
   "metadata": {
    "collapsed": false
   },
   "outputs": [],
   "source": [
    "from itertools import product\n",
    "\n",
    "matrix = np.zeros((500, 500), np.uint8)\n",
    "seed =  random.choice(markov.keys()) # seed\n",
    "matrix[0][0] = seed\n",
    "\n",
    "for i, j in product(range(499), range(499)):\n",
    "    px = matrix[i][j]\n",
    "    matrix[i][j+1] = pick_from(normalized[px].right)\n",
    "    matrix[i+1][j] = pick_from(normalized[px].down)\n",
    "\n",
    "import scipy.misc\n",
    "scipy.misc.imsave('outfile.jpg', matrix)\n",
    "\n",
    "%matplotlib inline\n",
    "plt.imshow(matrix)"
   ]
  },
  {
   "cell_type": "code",
   "execution_count": null,
   "metadata": {
    "collapsed": false
   },
   "outputs": [],
   "source": [
    "' '.join(map(repr, sorted(normalized.keys())))"
   ]
  },
  {
   "cell_type": "markdown",
   "metadata": {},
   "source": []
  }
 ],
 "metadata": {
  "kernelspec": {
   "display_name": "Python 2",
   "language": "python",
   "name": "python2"
  },
  "language_info": {
   "codemirror_mode": {
    "name": "ipython",
    "version": 2
   },
   "file_extension": ".py",
   "mimetype": "text/x-python",
   "name": "python",
   "nbconvert_exporter": "python",
   "pygments_lexer": "ipython2",
   "version": "2.7.11"
  }
 },
 "nbformat": 4,
 "nbformat_minor": 0
}
